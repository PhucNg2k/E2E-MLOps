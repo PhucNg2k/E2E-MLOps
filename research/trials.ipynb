{
 "cells": [
  {
   "cell_type": "code",
   "execution_count": null,
   "metadata": {},
   "outputs": [],
   "source": [
    "import gdown"
   ]
  },
  {
   "cell_type": "code",
   "execution_count": null,
   "metadata": {},
   "outputs": [],
   "source": [
    "url = \"https://drive.google.com/file/d/1MAsJlQRcOoq48g5T6j9NVjp-X5ghlImJ/view?usp=drive_link1MAsJlQRcOoq48g5T6j9NVjp-X5ghlImJ/view?usp=drive_link\""
   ]
  },
  {
   "cell_type": "code",
   "execution_count": 5,
   "metadata": {},
   "outputs": [
    {
     "data": {
      "text/plain": [
       "'1MAsJlQRcOoq48g5T6j9NVjp-X5ghlImJ'"
      ]
     },
     "execution_count": 5,
     "metadata": {},
     "output_type": "execute_result"
    }
   ],
   "source": [
    "file_id = url.split(\"/\")[-2]\n",
    "file_id"
   ]
  },
  {
   "cell_type": "code",
   "execution_count": 6,
   "metadata": {},
   "outputs": [
    {
     "name": "stderr",
     "output_type": "stream",
     "text": [
      "Downloading...\n",
      "From (original): https://drive.google.com/uc?export=download&id=1MAsJlQRcOoq48g5T6j9NVjp-X5ghlImJ\n",
      "From (redirected): https://drive.google.com/uc?export=download&id=1MAsJlQRcOoq48g5T6j9NVjp-X5ghlImJ&confirm=t&uuid=dbb3c046-3cda-43d0-b916-1617bd6f4036\n",
      "To: d:\\UIT\\MLops\\research\\kidney-ct-scan-image.zip\n",
      "100%|██████████| 57.7M/57.7M [00:05<00:00, 11.3MB/s]\n"
     ]
    },
    {
     "data": {
      "text/plain": [
       "'kidney-ct-scan-image.zip'"
      ]
     },
     "execution_count": 6,
     "metadata": {},
     "output_type": "execute_result"
    }
   ],
   "source": [
    "download_url = f\"https://drive.google.com/uc?export=download&id={file_id}\"\n",
    "gdown.download(download_url, \"kidney-ct-scan-image.zip\")"
   ]
  },
  {
   "cell_type": "code",
   "execution_count": null,
   "metadata": {},
   "outputs": [],
   "source": []
  }
 ],
 "metadata": {
  "kernelspec": {
   "display_name": "MLOps",
   "language": "python",
   "name": "python3"
  },
  "language_info": {
   "codemirror_mode": {
    "name": "ipython",
    "version": 3
   },
   "file_extension": ".py",
   "mimetype": "text/x-python",
   "name": "python",
   "nbconvert_exporter": "python",
   "pygments_lexer": "ipython3",
   "version": "3.8.20"
  }
 },
 "nbformat": 4,
 "nbformat_minor": 2
}
